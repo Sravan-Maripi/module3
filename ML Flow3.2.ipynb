{
 "cells": [
  {
   "cell_type": "code",
   "execution_count": 18,
   "id": "58ea81c9",
   "metadata": {},
   "outputs": [],
   "source": [
    "import pandas as pd\n",
    "import numpy as np"
   ]
  },
  {
   "cell_type": "code",
   "execution_count": 19,
   "id": "be5de560",
   "metadata": {},
   "outputs": [],
   "source": [
    "import mlflow\n",
    "from sklearn.model_selection import train_test_split\n",
    "from sklearn.model_selection import StratifiedShuffleSplit\n",
    "from sklearn.base import BaseEstimator, TransformerMixin\n",
    "from sklearn.pipeline import Pipeline\n",
    "from sklearn.impute import SimpleImputer\n",
    "from sklearn.preprocessing import StandardScaler\n",
    "from sklearn.compose import ColumnTransformer\n",
    "from sklearn.preprocessing import OneHotEncoder\n",
    "from sklearn.linear_model import ElasticNet\n",
    "from sklearn.ensemble import RandomForestRegressor\n",
    "from sklearn.metrics import mean_squared_error, mean_absolute_error, r2_score\n",
    "from sklearn.model_selection import cross_val_score\n",
    "from scipy import stats\n",
    "from sklearn.model_selection import GridSearchCV"
   ]
  },
  {
   "cell_type": "code",
   "execution_count": 20,
   "id": "adf2101d",
   "metadata": {},
   "outputs": [],
   "source": [
    "import os\n",
    "import tarfile\n",
    "import urllib\n",
    "\n",
    "DOWNLOAD_ROOT = \"https://raw.githubusercontent.com/ageron/handson-ml2/master/\"\n",
    "HOUSING_PATH = os.path.join(\"datasets\", \"housing\")\n",
    "HOUSING_URL = DOWNLOAD_ROOT + \"datasets/housing/housing.tgz\" \n",
    "\n",
    "def fetch_housing_data(housing_url=HOUSING_URL, housing_path=HOUSING_PATH):\n",
    "    os.makedirs(housing_path, exist_ok=True)\n",
    "    tgz_path = os.path.join(housing_path, \"housing.tgz\")\n",
    "    urllib.request.urlretrieve(housing_url, tgz_path)\n",
    "    housing_tgz = tarfile.open(tgz_path)\n",
    "    housing_tgz.extractall(path=housing_path)\n",
    "    housing_tgz.close()"
   ]
  },
  {
   "cell_type": "code",
   "execution_count": 21,
   "id": "dfb37927",
   "metadata": {},
   "outputs": [],
   "source": [
    "fetch_housing_data()"
   ]
  },
  {
   "cell_type": "code",
   "execution_count": 22,
   "id": "53098395",
   "metadata": {},
   "outputs": [],
   "source": [
    "def load_housing_data(housing_path=HOUSING_PATH):\n",
    "    csv_path = os.path.join(housing_path, \"housing.csv\")\n",
    "    return pd.read_csv(csv_path)"
   ]
  },
  {
   "cell_type": "code",
   "execution_count": 23,
   "id": "6034d760",
   "metadata": {},
   "outputs": [],
   "source": [
    "housing = load_housing_data()"
   ]
  },
  {
   "cell_type": "code",
   "execution_count": 24,
   "id": "48081beb",
   "metadata": {},
   "outputs": [
    {
     "data": {
      "text/html": [
       "<div>\n",
       "<style scoped>\n",
       "    .dataframe tbody tr th:only-of-type {\n",
       "        vertical-align: middle;\n",
       "    }\n",
       "\n",
       "    .dataframe tbody tr th {\n",
       "        vertical-align: top;\n",
       "    }\n",
       "\n",
       "    .dataframe thead th {\n",
       "        text-align: right;\n",
       "    }\n",
       "</style>\n",
       "<table border=\"1\" class=\"dataframe\">\n",
       "  <thead>\n",
       "    <tr style=\"text-align: right;\">\n",
       "      <th></th>\n",
       "      <th>longitude</th>\n",
       "      <th>latitude</th>\n",
       "      <th>housing_median_age</th>\n",
       "      <th>total_rooms</th>\n",
       "      <th>total_bedrooms</th>\n",
       "      <th>population</th>\n",
       "      <th>households</th>\n",
       "      <th>median_income</th>\n",
       "      <th>median_house_value</th>\n",
       "      <th>ocean_proximity</th>\n",
       "    </tr>\n",
       "  </thead>\n",
       "  <tbody>\n",
       "    <tr>\n",
       "      <th>0</th>\n",
       "      <td>-122.23</td>\n",
       "      <td>37.88</td>\n",
       "      <td>41.0</td>\n",
       "      <td>880.0</td>\n",
       "      <td>129.0</td>\n",
       "      <td>322.0</td>\n",
       "      <td>126.0</td>\n",
       "      <td>8.3252</td>\n",
       "      <td>452600.0</td>\n",
       "      <td>NEAR BAY</td>\n",
       "    </tr>\n",
       "    <tr>\n",
       "      <th>1</th>\n",
       "      <td>-122.22</td>\n",
       "      <td>37.86</td>\n",
       "      <td>21.0</td>\n",
       "      <td>7099.0</td>\n",
       "      <td>1106.0</td>\n",
       "      <td>2401.0</td>\n",
       "      <td>1138.0</td>\n",
       "      <td>8.3014</td>\n",
       "      <td>358500.0</td>\n",
       "      <td>NEAR BAY</td>\n",
       "    </tr>\n",
       "    <tr>\n",
       "      <th>2</th>\n",
       "      <td>-122.24</td>\n",
       "      <td>37.85</td>\n",
       "      <td>52.0</td>\n",
       "      <td>1467.0</td>\n",
       "      <td>190.0</td>\n",
       "      <td>496.0</td>\n",
       "      <td>177.0</td>\n",
       "      <td>7.2574</td>\n",
       "      <td>352100.0</td>\n",
       "      <td>NEAR BAY</td>\n",
       "    </tr>\n",
       "    <tr>\n",
       "      <th>3</th>\n",
       "      <td>-122.25</td>\n",
       "      <td>37.85</td>\n",
       "      <td>52.0</td>\n",
       "      <td>1274.0</td>\n",
       "      <td>235.0</td>\n",
       "      <td>558.0</td>\n",
       "      <td>219.0</td>\n",
       "      <td>5.6431</td>\n",
       "      <td>341300.0</td>\n",
       "      <td>NEAR BAY</td>\n",
       "    </tr>\n",
       "    <tr>\n",
       "      <th>4</th>\n",
       "      <td>-122.25</td>\n",
       "      <td>37.85</td>\n",
       "      <td>52.0</td>\n",
       "      <td>1627.0</td>\n",
       "      <td>280.0</td>\n",
       "      <td>565.0</td>\n",
       "      <td>259.0</td>\n",
       "      <td>3.8462</td>\n",
       "      <td>342200.0</td>\n",
       "      <td>NEAR BAY</td>\n",
       "    </tr>\n",
       "  </tbody>\n",
       "</table>\n",
       "</div>"
      ],
      "text/plain": [
       "   longitude  latitude  housing_median_age  total_rooms  total_bedrooms  \\\n",
       "0    -122.23     37.88                41.0        880.0           129.0   \n",
       "1    -122.22     37.86                21.0       7099.0          1106.0   \n",
       "2    -122.24     37.85                52.0       1467.0           190.0   \n",
       "3    -122.25     37.85                52.0       1274.0           235.0   \n",
       "4    -122.25     37.85                52.0       1627.0           280.0   \n",
       "\n",
       "   population  households  median_income  median_house_value ocean_proximity  \n",
       "0       322.0       126.0         8.3252            452600.0        NEAR BAY  \n",
       "1      2401.0      1138.0         8.3014            358500.0        NEAR BAY  \n",
       "2       496.0       177.0         7.2574            352100.0        NEAR BAY  \n",
       "3       558.0       219.0         5.6431            341300.0        NEAR BAY  \n",
       "4       565.0       259.0         3.8462            342200.0        NEAR BAY  "
      ]
     },
     "execution_count": 24,
     "metadata": {},
     "output_type": "execute_result"
    }
   ],
   "source": [
    "housing.head()"
   ]
  },
  {
   "cell_type": "code",
   "execution_count": 25,
   "id": "cdf550bd",
   "metadata": {},
   "outputs": [],
   "source": [
    "remote_server_uri = \"http://0.0.0.0:5000\" # set to your server URI\n",
    "mlflow.set_tracking_uri(remote_server_uri)"
   ]
  },
  {
   "cell_type": "code",
   "execution_count": 26,
   "id": "22c57c42",
   "metadata": {},
   "outputs": [
    {
     "data": {
      "text/plain": [
       "'http://0.0.0.0:5000'"
      ]
     },
     "execution_count": 26,
     "metadata": {},
     "output_type": "execute_result"
    }
   ],
   "source": [
    "mlflow.tracking.get_tracking_uri()"
   ]
  },
  {
   "cell_type": "code",
   "execution_count": 27,
   "id": "28d10209",
   "metadata": {},
   "outputs": [
    {
     "data": {
      "text/plain": [
       "<Experiment: artifact_location='mlruns/4', experiment_id='4', lifecycle_stage='active', name='Housing Price', tags={}>"
      ]
     },
     "execution_count": 27,
     "metadata": {},
     "output_type": "execute_result"
    }
   ],
   "source": [
    "mlflow.set_experiment(\"Housing Price\")"
   ]
  },
  {
   "cell_type": "code",
   "execution_count": 28,
   "id": "65e79d67",
   "metadata": {},
   "outputs": [],
   "source": [
    "col_names = \"total_rooms\", \"total_bedrooms\", \"population\", \"households\"\n",
    "rooms_ix, bedrooms_ix, population_ix, households_ix = [\n",
    "    housing.columns.get_loc(c) for c in col_names] # get the column indices\n",
    "\n",
    "class CombinedAttributesAdder(BaseEstimator, TransformerMixin):\n",
    "    def __init__(self, add_bedrooms_per_room = True): # no *args or **kargs\n",
    "        self.add_bedrooms_per_room = add_bedrooms_per_room\n",
    "    def fit(self, X, y=None):\n",
    "        return self  # nothing else to do\n",
    "    def transform(self, X):\n",
    "        rooms_per_household = X[:, rooms_ix] / X[:, households_ix]\n",
    "        population_per_household = X[:, population_ix] / X[:, households_ix]\n",
    "        if self.add_bedrooms_per_room:\n",
    "            bedrooms_per_room = X[:, bedrooms_ix] / X[:, rooms_ix]\n",
    "            return np.c_[X, rooms_per_household, population_per_household,\n",
    "                         bedrooms_per_room]\n",
    "\n",
    "        else:\n",
    "            return np.c_[X, rooms_per_household, population_per_household]"
   ]
  },
  {
   "cell_type": "code",
   "execution_count": 29,
   "id": "833183cf",
   "metadata": {},
   "outputs": [],
   "source": [
    "def split_load_data(housing_path=HOUSING_PATH):\n",
    "    csv_path = os.path.join(housing_path, \"housing.csv\")\n",
    "    housing = pd.read_csv(csv_path)\n",
    "    \n",
    "    train_set, test_set = train_test_split(housing, test_size=0.2, random_state=42)\n",
    "    \n",
    "    housing[\"income_cat\"] = pd.cut(housing[\"median_income\"],\n",
    "                               bins=[0., 1.5, 3.0, 4.5, 6., np.inf],\n",
    "                               labels=[1, 2, 3, 4, 5])\n",
    "    \n",
    "    split = StratifiedShuffleSplit(n_splits=1, test_size=0.2, random_state=42)\n",
    "    for train_index, test_index in split.split(housing, housing[\"income_cat\"]):\n",
    "            strat_train_set = housing.loc[train_index]\n",
    "            strat_test_set = housing.loc[test_index]\n",
    "            \n",
    "    for set_ in (strat_train_set, strat_test_set):\n",
    "        set_.drop(\"income_cat\", axis=1, inplace=True)\n",
    "            \n",
    "    return strat_train_set, strat_test_set\n",
    "\n"
   ]
  },
  {
   "cell_type": "code",
   "execution_count": 30,
   "id": "4101212c",
   "metadata": {},
   "outputs": [],
   "source": [
    "def pipeline_transform(data):\n",
    "    \n",
    "    train = data\n",
    "    \n",
    "    housing = train.drop(\"median_house_value\", axis=1)\n",
    "                \n",
    "    label = train[\"median_house_value\"].copy()\n",
    "    \n",
    "    num_pipeline = Pipeline([\n",
    "        ('imputer', SimpleImputer(strategy=\"median\")),\n",
    "        ('attribs_adder', CombinedAttributesAdder()),\n",
    "        ('std_scaler', StandardScaler()),\n",
    "    ])\n",
    "    \n",
    "    housing_num = train.drop(\"ocean_proximity\", axis=1)\n",
    "    num_attribs = list(housing_num)\n",
    "    cat_attribs = [\"ocean_proximity\"]\n",
    "    \n",
    "    full_pipeline = ColumnTransformer([\n",
    "        (\"num\", num_pipeline, num_attribs),\n",
    "        (\"cat\", OneHotEncoder(handle_unknown='ignore'), cat_attribs),\n",
    "    ])\n",
    "    \n",
    "    housing_prepared = full_pipeline.fit_transform(train)\n",
    "    \n",
    "    return housing_prepared, label"
   ]
  },
  {
   "cell_type": "code",
   "execution_count": 31,
   "id": "966bd4de",
   "metadata": {},
   "outputs": [],
   "source": [
    "def eval_metrics(actual, pred):\n",
    "    # compute relevant metrics\n",
    "    rmse = np.sqrt(mean_squared_error(actual, pred))\n",
    "    mae = mean_absolute_error(actual, pred)\n",
    "    r2 = r2_score(actual, pred)\n",
    "    return rmse, mae, r2"
   ]
  },
  {
   "cell_type": "code",
   "execution_count": 32,
   "id": "5c05a452",
   "metadata": {},
   "outputs": [],
   "source": [
    "def train(max_features='auto', n_estimators=100, alpha=0.5, l1_ratio=0.5):\n",
    "    \n",
    "    with mlflow.start_run(run_name='PARENT_RUN') as parent_run:\n",
    "        \n",
    "        mlflow.log_param(\"parent\", \"yes\")\n",
    "        \n",
    "        with mlflow.start_run(run_name='LOAD DATA', nested=True) as load_data:\n",
    "            \n",
    "            mlflow.log_param(\"child\", \"yes\")\n",
    "            \n",
    "            data_path = \"datasets/housing/housing.csv\"\n",
    "            \n",
    "            train_set, test_set = split_load_data()\n",
    "            \n",
    "            with mlflow.start_run(run_name='DATA PREPARATION', nested=True) as data_preparation:\n",
    "                \n",
    "                mlflow.log_param(\"child\", \"yes\")\n",
    "                \n",
    "                train_prepared, labels = pipeline_transform(train_set)\n",
    "                \n",
    "                with mlflow.start_run(run_name='TRAINING', nested=True) as training:\n",
    "                    \n",
    "                    mlflow.log_param(\"child\", \"yes\")                    \n",
    "                   \n",
    "                    rf = RandomForestRegressor(random_state=42)\n",
    "                    train1_prepared,labels1 = pipeline_transform(test_set)\n",
    "                    rf.fit(train_prepared,labels)\n",
    "                    predict=rf.predict(train1_prepared)\n",
    "                    (rmse, mae, r2) = eval_metrics(labels1,predict)\n",
    "                            \n",
    "                    print(\"Random Forest Model (max_features=%s, n_estimators=%f):\" % (max_features, n_estimators))\n",
    "                    print(\"  RMSE: %s\" % rmse)\n",
    "                    print(\"  MAE: %s\" % mae)\n",
    "                    print(\"  R2: %s\" % r2)                                                                                   \n",
    "                    param_grid = [\n",
    "                        # try 12 (3×4) combinations of hyperparameters\n",
    "                       {'n_estimators': [3, 10, 30], 'max_features': [2, 4, 6, 8]},\n",
    "                       # then try 6 (2×3) combinations with bootstrap set as False\n",
    "                       {'bootstrap': [False], 'n_estimators': [3, 10], 'max_features': [2, 3, 4]},\n",
    "                        ]\n",
    "                    forest_reg = RandomForestRegressor(random_state=42)\n",
    "# train across 5 folds, that's a total of (12+6)*5=90 rounds of training \n",
    "                    grid_search = GridSearchCV(forest_reg, param_grid, cv=5,\n",
    "                                                scoring='neg_mean_squared_error',\n",
    "                                                return_train_score=True)\n",
    "                    grid_search.fit(train_prepared,labels)\n",
    "                    final_model = grid_search.best_estimator_\n",
    "                   \n",
    "                    final_predictions = final_model.predict(train1_prepared)\n",
    "                    final_rmse = mean_squared_error(labels1, final_predictions, squared=False)\n",
    "                    (rmse, mae, r2) = eval_metrics(labels1, final_predictions)\n",
    "                                                                                                \n",
    "                        # Print out metrics                                                                                                                                           \n",
    "                                                                      \n",
    "                    confidence = 0.95\n",
    "                    squared_errors = (final_predictions - labels1) ** 2\n",
    "                    print(grid_search.best_estimator_)\n",
    "                    print(\"  RMSE: %s\" % rmse)\n",
    "                    print(\"  MAE: %s\" % mae)\n",
    "                    print(\"  R2: %s\" % r2)\n",
    "                \n",
    "                    print(np.sqrt(stats.t.interval(confidence, len(squared_errors) - 1,\n",
    "                                                   loc=squared_errors.mean(),\n",
    "                                                   scale=stats.sem(squared_errors))))                                                        \n",
    "                            \n",
    "                            # Log parameter, metrics, and model to MLflow\n",
    "                    mlflow.log_param(key=\"max_features\", value=max_features)\n",
    "                    mlflow.log_param(key=\"n_estimators\", value=n_estimators)\n",
    "                    mlflow.log_metric(key=\"rmse\", value=rmse)\n",
    "                    mlflow.log_metrics({\"mae\": mae, \"r2\": r2})\n",
    "                    mlflow.log_artifact(data_path)\n",
    "                    print(\"Save to: {}\".format(mlflow.get_artifact_uri()))                            \n",
    "                    mlflow.sklearn.log_model(rf, \"model\")\n",
    "            "
   ]
  },
  {
   "cell_type": "code",
   "execution_count": 33,
   "id": "2507e03f",
   "metadata": {},
   "outputs": [
    {
     "name": "stdout",
     "output_type": "stream",
     "text": [
      "Random Forest Model (max_features=auto, n_estimators=100.000000):\n",
      "  RMSE: 1391.9480387839524\n",
      "  MAE: 1028.0975121124031\n",
      "  R2: 0.9998513391374648\n",
      "RandomForestRegressor(max_features=8, n_estimators=30, random_state=42)\n",
      "  RMSE: 3495.9528084711587\n",
      "  MAE: 2253.427034883721\n",
      "  R2: 0.9990622615484746\n",
      "[3278.46086183 3700.68459282]\n",
      "Save to: mlruns/4/8772b6f95c4c48c7824f982c091ec5f3/artifacts\n"
     ]
    }
   ],
   "source": [
    "train()"
   ]
  },
  {
   "cell_type": "code",
   "execution_count": null,
   "id": "921280f6",
   "metadata": {},
   "outputs": [],
   "source": []
  },
  {
   "cell_type": "code",
   "execution_count": null,
   "id": "97fe36b7",
   "metadata": {},
   "outputs": [],
   "source": []
  }
 ],
 "metadata": {
  "kernelspec": {
   "display_name": "Python 3 (ipykernel)",
   "language": "python",
   "name": "python3"
  },
  "language_info": {
   "codemirror_mode": {
    "name": "ipython",
    "version": 3
   },
   "file_extension": ".py",
   "mimetype": "text/x-python",
   "name": "python",
   "nbconvert_exporter": "python",
   "pygments_lexer": "ipython3",
   "version": "3.9.7"
  }
 },
 "nbformat": 4,
 "nbformat_minor": 5
}
